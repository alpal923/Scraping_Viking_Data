{
 "cells": [
  {
   "cell_type": "code",
   "execution_count": 2,
   "metadata": {},
   "outputs": [],
   "source": [
    "import os\n",
    "import pandas as pd\n",
    "from google.cloud import translate_v2 as translate\n",
    "from google.oauth2 import service_account\n",
    "import json\n",
    "from googleapiclient.discovery import build\n",
    "import urllib.parse\n"
   ]
  },
  {
   "cell_type": "code",
   "execution_count": 14,
   "metadata": {},
   "outputs": [],
   "source": [
    "\n",
    "# Define the path to the file containing the project ID and API key\n",
    "config_file = '/Users/aly.milne/Library/CloudStorage/OneDrive-BrighamYoungUniversity/Fall 2023/STAT 386/ST386_Final_Project/api-key.txt'\n",
    "\n",
    "# Initialize variables\n",
    "project_id1 = None\n",
    "api_key1 = None\n",
    "\n",
    "# Read the project ID and API key from the file\n",
    "with open(config_file, 'r') as file:\n",
    "    lines = file.readlines()  # Read all lines into a list\n",
    "\n",
    "    # Extract project ID from the first line, if available\n",
    "    if len(lines) > 0:\n",
    "        project_id = lines[0].strip()\n",
    "\n",
    "    # Extract API key from the second line, if available\n",
    "    if len(lines) > 1:\n",
    "        api_key = lines[1].strip()\n",
    "        \n"
   ]
  },
  {
   "cell_type": "code",
   "execution_count": 15,
   "metadata": {},
   "outputs": [],
   "source": [
    "# Initialize the translation client\n",
    "translate_client = translate.Client()\n",
    "\n",
    "# Cache for storing translations\n",
    "translation_cache = {}\n",
    "\n",
    "def batch_translate_text_with_model(target: str, texts: list, model: str = \"nmt\") -> list:\n",
    "    translated_texts = []\n",
    "    for text in texts:\n",
    "        if text in translation_cache:\n",
    "            # Use cached translation if available\n",
    "            translated_texts.append(translation_cache[text])\n",
    "        else:\n",
    "            if isinstance(text, bytes):\n",
    "                text = text.decode(\"utf-8\")\n",
    "\n",
    "            result = translate_client.translate(text, target_language=target, model=model)\n",
    "            translated_text = result[\"translatedText\"]\n",
    "            translation_cache[text] = translated_text\n",
    "            translated_texts.append(translated_text)\n",
    "    return translated_texts\n"
   ]
  },
  {
   "cell_type": "code",
   "execution_count": 16,
   "metadata": {},
   "outputs": [],
   "source": [
    "\n",
    "# Read the CSV file\n",
    "df = pd.read_csv('/Users/aly.milne/Library/CloudStorage/OneDrive-BrighamYoungUniversity/Fall 2023/STAT 386/ST386_Final_Project/Scraped_Data/war_w_locations.csv', encoding='utf-8')\n",
    "\n",
    "# Identify text columns\n",
    "text_columns = df.select_dtypes(include=['object']).columns\n",
    "# Remove \"Unique Name\" from the list\n",
    "text_columns = [col for col in text_columns if col != \"Unique Name\"]\n",
    "# Remove \"Museum\" from the list\n",
    "text_columns = [col for col in text_columns if col != \"Museum\"]\n",
    "# Remove \"Catalog Link\" from the list\n",
    "text_columns = [col for col in text_columns if col != \"Catalog Link\"]\n"
   ]
  },
  {
   "cell_type": "code",
   "execution_count": 17,
   "metadata": {},
   "outputs": [
    {
     "data": {
      "text/plain": [
       "['Föremålsbenämning',\n",
       " 'Föremålsnr.',\n",
       " 'Andra nummer',\n",
       " 'Material',\n",
       " 'Plats',\n",
       " 'Fornlämning',\n",
       " 'Socken',\n",
       " 'Landskap',\n",
       " 'Land',\n",
       " 'Kontexttyp',\n",
       " 'Kontextnr.',\n",
       " 'Kategori',\n",
       " 'Datering',\n",
       " 'Tidsperiod',\n",
       " 'Föremålsnummer',\n",
       " 'Historisk plats',\n",
       " 'Omnämns i katalog',\n",
       " 'Förvärvsmetod',\n",
       " 'Fyndplats',\n",
       " 'Arkeologisk kontext',\n",
       " 'Kontextnamn',\n",
       " 'Undersökare',\n",
       " 'Undersökningsår',\n",
       " 'Storlek']"
      ]
     },
     "execution_count": 17,
     "metadata": {},
     "output_type": "execute_result"
    }
   ],
   "source": [
    "text_columns"
   ]
  },
  {
   "cell_type": "code",
   "execution_count": 18,
   "metadata": {},
   "outputs": [],
   "source": [
    "batch_size = 100\n",
    "\n",
    "for column in text_columns:\n",
    "    # Process the column in batches\n",
    "    for i in range(0, len(df), batch_size):\n",
    "        batch_slice = slice(i, i + batch_size)\n",
    "        batch_texts = df[column][batch_slice].dropna()\n",
    "        translated_batch = batch_translate_text_with_model('en', batch_texts.tolist())\n",
    "\n",
    "        # Update only the rows that were translated\n",
    "        df.loc[batch_texts.index, column + '_translated'] = translated_batch"
   ]
  },
  {
   "cell_type": "code",
   "execution_count": 19,
   "metadata": {},
   "outputs": [
    {
     "data": {
      "text/html": [
       "<div>\n",
       "<style scoped>\n",
       "    .dataframe tbody tr th:only-of-type {\n",
       "        vertical-align: middle;\n",
       "    }\n",
       "\n",
       "    .dataframe tbody tr th {\n",
       "        vertical-align: top;\n",
       "    }\n",
       "\n",
       "    .dataframe thead th {\n",
       "        text-align: right;\n",
       "    }\n",
       "</style>\n",
       "<table border=\"1\" class=\"dataframe\">\n",
       "  <thead>\n",
       "    <tr style=\"text-align: right;\">\n",
       "      <th></th>\n",
       "      <th>Datering</th>\n",
       "      <th>Era Start Year</th>\n",
       "      <th>Era End Year</th>\n",
       "    </tr>\n",
       "  </thead>\n",
       "  <tbody>\n",
       "    <tr>\n",
       "      <th>0</th>\n",
       "      <td>800 – 1100</td>\n",
       "      <td>800</td>\n",
       "      <td>1100</td>\n",
       "    </tr>\n",
       "    <tr>\n",
       "      <th>1</th>\n",
       "      <td>800 – 1100</td>\n",
       "      <td>800</td>\n",
       "      <td>1100</td>\n",
       "    </tr>\n",
       "    <tr>\n",
       "      <th>2</th>\n",
       "      <td>800 – 1100</td>\n",
       "      <td>800</td>\n",
       "      <td>1100</td>\n",
       "    </tr>\n",
       "    <tr>\n",
       "      <th>3</th>\n",
       "      <td>800 – 1100</td>\n",
       "      <td>800</td>\n",
       "      <td>1100</td>\n",
       "    </tr>\n",
       "    <tr>\n",
       "      <th>4</th>\n",
       "      <td>800 – 1100</td>\n",
       "      <td>800</td>\n",
       "      <td>1100</td>\n",
       "    </tr>\n",
       "  </tbody>\n",
       "</table>\n",
       "</div>"
      ],
      "text/plain": [
       "     Datering Era Start Year Era End Year\n",
       "0  800 – 1100            800         1100\n",
       "1  800 – 1100            800         1100\n",
       "2  800 – 1100            800         1100\n",
       "3  800 – 1100            800         1100\n",
       "4  800 – 1100            800         1100"
      ]
     },
     "execution_count": 19,
     "metadata": {},
     "output_type": "execute_result"
    }
   ],
   "source": [
    "# Splitting the 'Datering' column into 'Era Start Year' and 'Era End Year'\n",
    "df[['Era Start Year', 'Era End Year']] = df['Datering'].str.split(' – ', expand=True)\n",
    "\n",
    "# Display the first few rows of the dataframe to verify the new columns\n",
    "df[['Datering', 'Era Start Year', 'Era End Year']].head()"
   ]
  },
  {
   "cell_type": "code",
   "execution_count": 20,
   "metadata": {},
   "outputs": [],
   "source": [
    "df.to_csv('war_translated.csv', index=False)"
   ]
  }
 ],
 "metadata": {
  "kernelspec": {
   "display_name": "stat386",
   "language": "python",
   "name": "python3"
  },
  "language_info": {
   "codemirror_mode": {
    "name": "ipython",
    "version": 3
   },
   "file_extension": ".py",
   "mimetype": "text/x-python",
   "name": "python",
   "nbconvert_exporter": "python",
   "pygments_lexer": "ipython3",
   "version": "3.10.12"
  }
 },
 "nbformat": 4,
 "nbformat_minor": 2
}
