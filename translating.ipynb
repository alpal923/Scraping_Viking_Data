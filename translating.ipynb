{
 "cells": [
  {
   "cell_type": "code",
   "execution_count": 40,
   "metadata": {},
   "outputs": [],
   "source": [
    "import os\n",
    "import pandas as pd\n",
    "from google.cloud import translate_v2 as translate\n",
    "from google.oauth2 import service_account\n",
    "import json\n",
    "from googleapiclient.discovery import build\n",
    "import urllib.parse\n"
   ]
  },
  {
   "cell_type": "code",
   "execution_count": 41,
   "metadata": {},
   "outputs": [],
   "source": [
    "\n",
    "# Define the path to the file containing the project ID and API key\n",
    "config_file = '/Users/aly.milne/Library/CloudStorage/OneDrive-BrighamYoungUniversity/Fall 2023/STAT 386/ST386_Final_Project/api-key.txt'\n",
    "\n",
    "# Initialize variables\n",
    "project_id1 = None\n",
    "api_key1 = None\n",
    "\n",
    "# Read the project ID and API key from the file\n",
    "with open(config_file, 'r') as file:\n",
    "    lines = file.readlines()  # Read all lines into a list\n",
    "\n",
    "    # Extract project ID from the first line, if available\n",
    "    if len(lines) > 0:\n",
    "        project_id = lines[0].strip()\n",
    "\n",
    "    # Extract API key from the second line, if available\n",
    "    if len(lines) > 1:\n",
    "        api_key = lines[1].strip()\n",
    "        \n"
   ]
  },
  {
   "cell_type": "code",
   "execution_count": 42,
   "metadata": {},
   "outputs": [],
   "source": [
    "# Initialize the translation client\n",
    "translate_client = translate.Client()\n",
    "\n",
    "# Cache for storing translations\n",
    "translation_cache = {}\n",
    "\n",
    "def batch_translate_text_with_model(target: str, texts: list, model: str = \"nmt\") -> list:\n",
    "    translated_texts = []\n",
    "    for text in texts:\n",
    "        if text in translation_cache:\n",
    "            # Use cached translation if available\n",
    "            translated_texts.append(translation_cache[text])\n",
    "        else:\n",
    "            if isinstance(text, bytes):\n",
    "                text = text.decode(\"utf-8\")\n",
    "\n",
    "            result = translate_client.translate(text, target_language=target, model=model)\n",
    "            translated_text = result[\"translatedText\"]\n",
    "            translation_cache[text] = translated_text\n",
    "            translated_texts.append(translated_text)\n",
    "    return translated_texts\n"
   ]
  },
  {
   "cell_type": "code",
   "execution_count": 43,
   "metadata": {},
   "outputs": [],
   "source": [
    "\n",
    "# Read the CSV file\n",
    "df = pd.read_csv('Scraping_Code/trade_w_locations.csv', encoding='utf-8')\n",
    "\n",
    "# Identify text columns\n",
    "text_columns = df.select_dtypes(include=['object']).columns\n",
    "# Remove \"Unique Name\" from the list\n",
    "text_columns = [col for col in text_columns if col != \"Unique Name\"]\n",
    "# Remove \"Museum\" from the list\n",
    "text_columns = [col for col in text_columns if col != \"Museum\"]\n",
    "# Remove \"Catalog Link\" from the list\n",
    "text_columns = [col for col in text_columns if col != \"Catalog Link\"]\n"
   ]
  },
  {
   "cell_type": "code",
   "execution_count": 44,
   "metadata": {},
   "outputs": [
    {
     "data": {
      "text/plain": [
       "['Föremålsbenämning',\n",
       " 'Föremålsnr.',\n",
       " 'Andra nummer',\n",
       " 'Material',\n",
       " 'Plats',\n",
       " 'Fornlämning',\n",
       " 'Socken',\n",
       " 'Landskap',\n",
       " 'Land',\n",
       " 'Kontexttyp',\n",
       " 'Kontextnr.',\n",
       " 'Kategori',\n",
       " 'Storlek',\n",
       " 'Datering',\n",
       " 'Tidsperiod',\n",
       " 'Föremålsnummer',\n",
       " 'Omnämns i katalog',\n",
       " 'Fyndplats',\n",
       " 'Arkeologisk kontext',\n",
       " 'Förvärvsmetod',\n",
       " 'Kontextnamn',\n",
       " 'Historisk plats',\n",
       " 'Undersökare',\n",
       " 'Undersökningsår']"
      ]
     },
     "execution_count": 44,
     "metadata": {},
     "output_type": "execute_result"
    }
   ],
   "source": [
    "text_columns"
   ]
  },
  {
   "cell_type": "code",
   "execution_count": 46,
   "metadata": {},
   "outputs": [],
   "source": [
    "\n",
    "for column in text_columns:\n",
    "    # Process the column in batches\n",
    "    for i in range(0, len(df), batch_size):\n",
    "        batch_slice = slice(i, i + batch_size)\n",
    "        batch_texts = df[column][batch_slice].dropna()\n",
    "        translated_batch = batch_translate_text_with_model('en', batch_texts.tolist())\n",
    "\n",
    "        # Update only the rows that were translated\n",
    "        df.loc[batch_texts.index, column + '_translated'] = translated_batch"
   ]
  },
  {
   "cell_type": "code",
   "execution_count": null,
   "metadata": {},
   "outputs": [],
   "source": []
  },
  {
   "cell_type": "code",
   "execution_count": 47,
   "metadata": {},
   "outputs": [],
   "source": [
    "df.to_csv('trade_translated.csv', index=False)"
   ]
  }
 ],
 "metadata": {
  "kernelspec": {
   "display_name": "stat386",
   "language": "python",
   "name": "python3"
  },
  "language_info": {
   "codemirror_mode": {
    "name": "ipython",
    "version": 3
   },
   "file_extension": ".py",
   "mimetype": "text/x-python",
   "name": "python",
   "nbconvert_exporter": "python",
   "pygments_lexer": "ipython3",
   "version": "3.10.12"
  }
 },
 "nbformat": 4,
 "nbformat_minor": 2
}
